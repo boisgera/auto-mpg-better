{
 "cells": [
  {
   "cell_type": "code",
   "execution_count": null,
   "id": "bf8d7d9f-10ce-4eb1-b400-0dccda1980e0",
   "metadata": {},
   "outputs": [],
   "source": [
    "import json"
   ]
  },
  {
   "cell_type": "code",
   "execution_count": null,
   "id": "MJUe",
   "metadata": {},
   "outputs": [],
   "source": [
    "import matplotlib.pyplot as plt\n",
    "import numpy as np\n",
    "import pandas as pd\n",
    "import seaborn as sns"
   ]
  },
  {
   "cell_type": "code",
   "execution_count": null,
   "id": "vblA",
   "metadata": {},
   "outputs": [],
   "source": [
    "df = pd.read_parquet(\"datasets/auto-mpg.parquet\")\n",
    "df"
   ]
  },
  {
   "cell_type": "code",
   "execution_count": null,
   "id": "bkHC",
   "metadata": {},
   "outputs": [],
   "source": [
    "sns.pairplot(df)"
   ]
  },
  {
   "cell_type": "code",
   "execution_count": null,
   "id": "lEQa",
   "metadata": {},
   "outputs": [],
   "source": [
    "sns.scatterplot(data=df, x=\"weight\", y=\"mpg\")\n",
    "plt.grid(True)\n",
    "plt.gca()"
   ]
  },
  {
   "cell_type": "code",
   "execution_count": null,
   "id": "PKri",
   "metadata": {},
   "outputs": [],
   "source": [
    "gpm = (1.0 / df.mpg)\n",
    "lp100 = gpm * 3.78541 / 1.60934 * 100\n",
    "lp100 = lp100.rename(\"lp100\")"
   ]
  },
  {
   "cell_type": "code",
   "execution_count": null,
   "id": "Xref",
   "metadata": {},
   "outputs": [],
   "source": [
    "weight_kg = df.weight * 0.453592\n",
    "weight_kg = weight_kg.rename(\"weight_kg\")"
   ]
  },
  {
   "cell_type": "code",
   "execution_count": null,
   "id": "SFPL",
   "metadata": {},
   "outputs": [],
   "source": [
    "dfr = pd.DataFrame({lp100.name: lp100, weight_kg.name: weight_kg})\n",
    "dfr"
   ]
  },
  {
   "cell_type": "code",
   "execution_count": null,
   "id": "BYtC",
   "metadata": {},
   "outputs": [],
   "source": [
    "sns.pairplot(dfr)"
   ]
  },
  {
   "cell_type": "code",
   "execution_count": null,
   "id": "RGSE",
   "metadata": {},
   "outputs": [],
   "source": [
    "coeffs, _, _, _ = np.linalg.lstsq(\n",
    "    a=np.stack([dfr.weight_kg, np.ones_like(dfr.weight_kg)], axis=1),\n",
    "    b=dfr.lp100,\n",
    ")\n",
    "coeffs"
   ]
  },
  {
   "cell_type": "code",
   "execution_count": null,
   "id": "52a8c4bb-277b-4179-a1ab-782aa7851a42",
   "metadata": {},
   "outputs": [],
   "source": [
    "slope, intercept = coeffs"
   ]
  },
  {
   "cell_type": "code",
   "execution_count": null,
   "id": "2a9b9d81-bdf1-4782-838f-a1366ffa698c",
   "metadata": {},
   "outputs": [],
   "source": [
    "with open(\"models/coeffs.json\", mode=\"w\", encoding=\"utf-8\") as json_output:\n",
    "    json.dump({\"slope\": slope, \"intercept\": intercept}, json_output)"
   ]
  },
  {
   "cell_type": "code",
   "execution_count": null,
   "id": "c2fb5e85-6ffe-4f21-941f-74c88106c136",
   "metadata": {},
   "outputs": [],
   "source": [
    "from models.consumption import lp100_pred"
   ]
  },
  {
   "cell_type": "code",
   "execution_count": null,
   "id": "emfo",
   "metadata": {},
   "outputs": [],
   "source": [
    "sns.scatterplot(x=dfr.weight_kg, y=dfr.lp100, color=\"C0\", alpha=0.25)\n",
    "plt.plot(dfr.weight_kg, lp100_pred(dfr.weight_kg), color=\"C0\")\n",
    "plt.grid(True)\n",
    "plt.savefig(\"images/prediction.png\")\n",
    "plt.gca()"
   ]
  },
  {
   "cell_type": "code",
   "execution_count": null,
   "id": "Hstk",
   "metadata": {},
   "outputs": [],
   "source": [
    "pred_error = lp100_pred(dfr.weight_kg) - dfr.lp100\n",
    "pred_error = pred_error.rename(\"pred_error\")\n",
    "pred_error"
   ]
  },
  {
   "cell_type": "code",
   "execution_count": null,
   "id": "nWHF",
   "metadata": {},
   "outputs": [],
   "source": [
    "pred_error.describe()"
   ]
  },
  {
   "cell_type": "code",
   "execution_count": null,
   "id": "iLit",
   "metadata": {},
   "outputs": [],
   "source": [
    "sns.histplot(data=pred_error, kde=True)\n",
    "plt.grid(True)\n",
    "plt.savefig(\"images/error.png\")\n",
    "plt.gca()"
   ]
  }
 ],
 "metadata": {
  "kernelspec": {
   "display_name": "Python 3 (ipykernel)",
   "language": "python",
   "name": "python3"
  },
  "language_info": {
   "codemirror_mode": {
    "name": "ipython",
    "version": 3
   },
   "file_extension": ".py",
   "mimetype": "text/x-python",
   "name": "python",
   "nbconvert_exporter": "python",
   "pygments_lexer": "ipython3",
   "version": "3.13.2"
  }
 },
 "nbformat": 4,
 "nbformat_minor": 5
}
